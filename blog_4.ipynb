{
 "cells": [
  {
   "cell_type": "code",
   "execution_count": 82,
   "metadata": {},
   "outputs": [],
   "source": [
    "import requests\n",
    "from bs4 import BeautifulSoup\n",
    "import pandas as pd\n",
    "import numpy as np\n",
    "import json\n",
    "import time"
   ]
  },
  {
   "cell_type": "code",
   "execution_count": 123,
   "metadata": {},
   "outputs": [],
   "source": [
    "url = 'https://www.usatoday.com/sports/mlb/salaries/'"
   ]
  },
  {
   "cell_type": "code",
   "execution_count": 124,
   "metadata": {},
   "outputs": [],
   "source": [
    "html = requests.get(url)"
   ]
  },
  {
   "cell_type": "code",
   "execution_count": 125,
   "metadata": {},
   "outputs": [
    {
     "data": {
      "text/plain": [
       "<Response [200]>"
      ]
     },
     "execution_count": 125,
     "metadata": {},
     "output_type": "execute_result"
    }
   ],
   "source": [
    "html"
   ]
  },
  {
   "cell_type": "code",
   "execution_count": 126,
   "metadata": {},
   "outputs": [],
   "source": [
    "soup = BeautifulSoup(html.content, 'html.parser')"
   ]
  },
  {
   "cell_type": "code",
   "execution_count": 168,
   "metadata": {},
   "outputs": [],
   "source": [
    "rankings_container = soup.find('tbody')"
   ]
  },
  {
   "cell_type": "code",
   "execution_count": 170,
   "metadata": {},
   "outputs": [],
   "source": [
    "names = rankings_container.findAll('td', class_ = 'player_display')\n",
    "first = names[0].get_text()"
   ]
  },
  {
   "cell_type": "code",
   "execution_count": 171,
   "metadata": {},
   "outputs": [
    {
     "data": {
      "text/plain": [
       "'\\n                                            Max Scherzer\\n                                        '"
      ]
     },
     "execution_count": 171,
     "metadata": {},
     "output_type": "execute_result"
    }
   ],
   "source": [
    "first"
   ]
  },
  {
   "cell_type": "code",
   "execution_count": 216,
   "metadata": {},
   "outputs": [],
   "source": [
    "first = first.replace('\\n', \"\")\n",
    "first = first.replace(\" \", \"\")"
   ]
  },
  {
   "cell_type": "code",
   "execution_count": 217,
   "metadata": {},
   "outputs": [
    {
     "data": {
      "text/plain": [
       "'MaxScherzer'"
      ]
     },
     "execution_count": 217,
     "metadata": {},
     "output_type": "execute_result"
    }
   ],
   "source": [
    "first"
   ]
  },
  {
   "cell_type": "code",
   "execution_count": 215,
   "metadata": {},
   "outputs": [
    {
     "data": {
      "text/plain": [
       "'WSH'"
      ]
     },
     "execution_count": 215,
     "metadata": {},
     "output_type": "execute_result"
    }
   ],
   "source": [
    "teams = rankings_container.findAll('td', class_ = 'team_abbr')\n",
    "first_team = teams[0].find('a').get_text()\n",
    "first_team = first_team.replace('\\n', \"\")\n",
    "first_team = first_team.replace(\" \", \"\")\n",
    "first_team"
   ]
  },
  {
   "cell_type": "code",
   "execution_count": 214,
   "metadata": {},
   "outputs": [
    {
     "data": {
      "text/plain": [
       "'SP'"
      ]
     },
     "execution_count": 214,
     "metadata": {},
     "output_type": "execute_result"
    }
   ],
   "source": [
    "positions = rankings_container.findAll('td', class_ = 'position')\n",
    "first_position = positions[0].get_text()\n",
    "first_position = first_position.replace('\\n', \"\")\n",
    "first_position = first_position.replace(\" \", \"\")\n",
    "first_position"
   ]
  },
  {
   "cell_type": "code",
   "execution_count": 219,
   "metadata": {},
   "outputs": [
    {
     "data": {
      "text/plain": [
       "'$42,142,857'"
      ]
     },
     "execution_count": 219,
     "metadata": {},
     "output_type": "execute_result"
    }
   ],
   "source": [
    "salaries = rankings_container.findAll('td', class_ = 'salary')\n",
    "first_salary = salaries[0].get_text()\n",
    "first_salary = first_salary.replace('\\n', \"\")\n",
    "first_salary = first_salary.replace(' ', \"\")\n",
    "first_salary"
   ]
  },
  {
   "cell_type": "code",
   "execution_count": 248,
   "metadata": {},
   "outputs": [],
   "source": [
    "names = []\n",
    "\n",
    "def player_names(rankings_container):\n",
    "#     names = []\n",
    "    for item in rankings_container:\n",
    "#         print(item)\n",
    "        name = item.find('td', class_='player_display')\n",
    "#         print(name)\n",
    "        if name:\n",
    "            name = name.get_text()\n",
    "            name = name.replace('\\n', \"\")\n",
    "            name = name.replace(\" \", \"\")\n",
    "            names.append(name)\n",
    "        else:\n",
    "            names.append(\"NaN\")\n",
    "    return names\n",
    "\n",
    "names = player_names(rankings_container)"
   ]
  },
  {
   "cell_type": "code",
   "execution_count": 249,
   "metadata": {},
   "outputs": [],
   "source": [
    "teams = []\n",
    "\n",
    "def all_teams(rankings_container):\n",
    "    for item in rankings_container:\n",
    "        team = item.find('td', class_='team_abbr')\n",
    "        if team:\n",
    "            team = team.get_text()\n",
    "            team = team.replace('\\n', \"\")\n",
    "            team = team.replace(' ', \"\")\n",
    "            teams.append(team)\n",
    "        else:\n",
    "            teams.append(\"NaN\")\n",
    "    return teams\n",
    "\n",
    "teams = all_teams(rankings_container)"
   ]
  },
  {
   "cell_type": "code",
   "execution_count": 250,
   "metadata": {},
   "outputs": [],
   "source": [
    "positions = []\n",
    "\n",
    "def all_positions(rankings_container):\n",
    "    for item in rankings_container:\n",
    "        position = item.find('td', class_='position')\n",
    "        if position:\n",
    "            position = position.get_text()\n",
    "            position = position.replace('\\n', \"\")\n",
    "            position = position.replace(' ', \"\")\n",
    "            positions.append(position)\n",
    "        else:\n",
    "            positions.append(\"NaN\")\n",
    "    return positions\n",
    "\n",
    "postions = all_positions(rankings_container)"
   ]
  },
  {
   "cell_type": "code",
   "execution_count": 251,
   "metadata": {},
   "outputs": [],
   "source": [
    "salaries = []\n",
    "\n",
    "def all_salaries(rankings_container):\n",
    "    for item in rankings_container:\n",
    "        salary = item.find('td', class_='salary')\n",
    "        if salary:\n",
    "            salary = salary.get_text()\n",
    "            salary = salary.replace('$', \"\")\n",
    "            salary = salary.replace(',', \"\")\n",
    "            salary = salary.replace('\\n', \"\")\n",
    "            salary = salary.replace(' ', \"\")\n",
    "            salaries.append(int(salary))\n",
    "        else:\n",
    "            salaries.append(\"NaN\")\n",
    "    return salaries\n",
    "\n",
    "\n",
    "salaries = all_salaries(rankings_container)"
   ]
  },
  {
   "cell_type": "code",
   "execution_count": 252,
   "metadata": {},
   "outputs": [],
   "source": [
    "player_info = {'name': names, 'team': teams, 'position': positions, 'salary': salaries}"
   ]
  },
  {
   "cell_type": "code",
   "execution_count": 253,
   "metadata": {},
   "outputs": [],
   "source": [
    "df = pd.DataFrame(player_info)"
   ]
  },
  {
   "cell_type": "code",
   "execution_count": 254,
   "metadata": {},
   "outputs": [
    {
     "data": {
      "text/html": [
       "<div>\n",
       "<style scoped>\n",
       "    .dataframe tbody tr th:only-of-type {\n",
       "        vertical-align: middle;\n",
       "    }\n",
       "\n",
       "    .dataframe tbody tr th {\n",
       "        vertical-align: top;\n",
       "    }\n",
       "\n",
       "    .dataframe thead th {\n",
       "        text-align: right;\n",
       "    }\n",
       "</style>\n",
       "<table border=\"1\" class=\"dataframe\">\n",
       "  <thead>\n",
       "    <tr style=\"text-align: right;\">\n",
       "      <th></th>\n",
       "      <th>name</th>\n",
       "      <th>team</th>\n",
       "      <th>position</th>\n",
       "      <th>salary</th>\n",
       "    </tr>\n",
       "  </thead>\n",
       "  <tbody>\n",
       "    <tr>\n",
       "      <td>0</td>\n",
       "      <td>MaxScherzer</td>\n",
       "      <td>WSH</td>\n",
       "      <td>SP</td>\n",
       "      <td>42142857</td>\n",
       "    </tr>\n",
       "    <tr>\n",
       "      <td>1</td>\n",
       "      <td>StephenStrasburg</td>\n",
       "      <td>WSH</td>\n",
       "      <td>SP</td>\n",
       "      <td>36428571</td>\n",
       "    </tr>\n",
       "    <tr>\n",
       "      <td>2</td>\n",
       "      <td>MikeTrout</td>\n",
       "      <td>LAA</td>\n",
       "      <td>CF</td>\n",
       "      <td>34083333</td>\n",
       "    </tr>\n",
       "    <tr>\n",
       "      <td>3</td>\n",
       "      <td>ZackGreinke</td>\n",
       "      <td>ARI</td>\n",
       "      <td>SP</td>\n",
       "      <td>32421884</td>\n",
       "    </tr>\n",
       "    <tr>\n",
       "      <td>4</td>\n",
       "      <td>DavidPrice</td>\n",
       "      <td>BOS</td>\n",
       "      <td>SP</td>\n",
       "      <td>31000000</td>\n",
       "    </tr>\n",
       "  </tbody>\n",
       "</table>\n",
       "</div>"
      ],
      "text/plain": [
       "               name team position    salary\n",
       "0       MaxScherzer  WSH       SP  42142857\n",
       "1  StephenStrasburg  WSH       SP  36428571\n",
       "2         MikeTrout  LAA       CF  34083333\n",
       "3       ZackGreinke  ARI       SP  32421884\n",
       "4        DavidPrice  BOS       SP  31000000"
      ]
     },
     "execution_count": 254,
     "metadata": {},
     "output_type": "execute_result"
    }
   ],
   "source": [
    "df.head()"
   ]
  },
  {
   "cell_type": "code",
   "execution_count": 255,
   "metadata": {},
   "outputs": [
    {
     "data": {
      "text/plain": [
       "(877, 4)"
      ]
     },
     "execution_count": 255,
     "metadata": {},
     "output_type": "execute_result"
    }
   ],
   "source": [
    "df.shape"
   ]
  },
  {
   "cell_type": "code",
   "execution_count": null,
   "metadata": {},
   "outputs": [],
   "source": []
  }
 ],
 "metadata": {
  "kernelspec": {
   "display_name": "Python 3",
   "language": "python",
   "name": "python3"
  },
  "language_info": {
   "codemirror_mode": {
    "name": "ipython",
    "version": 3
   },
   "file_extension": ".py",
   "mimetype": "text/x-python",
   "name": "python",
   "nbconvert_exporter": "python",
   "pygments_lexer": "ipython3",
   "version": "3.7.4"
  }
 },
 "nbformat": 4,
 "nbformat_minor": 2
}
